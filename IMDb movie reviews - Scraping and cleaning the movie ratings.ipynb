{
 "cells": [
  {
   "cell_type": "code",
   "execution_count": 19,
   "id": "8379d6fd-513e-4b97-8dba-bda24b8f1b43",
   "metadata": {},
   "outputs": [],
   "source": [
    "#Project title: IMDb movie reviews - scraping and cleaning the movie ratings\n",
    "#Project goal: Scrape movie reviews from IMDb and clean the data to prepare it for analysis\n",
    "\n",
    "#MILESTONE 1 : DATASCRAPING\n",
    "#importing libraries\n",
    "import requests #to send http requests\n",
    "from bs4 import BeautifulSoup #to do html content parsing\n",
    "import pandas as pd # to work with tabular data\n",
    "import json #to handle json data\n",
    "\n",
    "#Sending request to IMdb\n",
    "#Setting custom headers to make our request appear like it's coming from a real user's browser\n",
    "#This helps avoid blocks or restrictions from IMDb's server that might be triggered by bots\n",
    "headers = {\n",
    "    'User-Agent': 'Mozilla/5.0 (Windows NT 10.0; Win64; x64) AppleWebKit/537.36 (KHTML, like Gecko) Chrome/91.0.4472.124 Safari/537.36'\n",
    "}"
   ]
  },
  {
   "cell_type": "code",
   "execution_count": 20,
   "id": "f66290a6-9840-4690-b93d-3c564368f91b",
   "metadata": {},
   "outputs": [
    {
     "name": "stdout",
     "output_type": "stream",
     "text": [
      "Retrieved successfully.\n"
     ]
    }
   ],
   "source": [
    "#IMDb Top 250 movies page \n",
    "url =\"https://www.imdb.com/chart/top/\"\n",
    "\n",
    "#Sending a GET request to the IMDb Top 250 page to retrieve its HTML content for scraping\n",
    "response = requests.get(url, headers=headers)\n",
    "response.status_code\n",
    "\n",
    "#Checking for successful retrieval\n",
    "if response.status_code == 200:\n",
    "    print (\"Retrieved successfully.\")\n",
    "else:\n",
    "    print (f\"Error retrieving, status code: {response.status_code}\")"
   ]
  },
  {
   "cell_type": "code",
   "execution_count": 21,
   "id": "408f497f-d879-4eb9-a2d5-b7042602b21b",
   "metadata": {},
   "outputs": [],
   "source": [
    "#Parsing HTML with BeautifulSoup\n",
    "soup = BeautifulSoup(response.content, \"html.parser\")\n",
    "soup #parsing\n",
    "\n",
    "#extracting the json-ld script \n",
    "json_data=soup.find(\"script\",type=\"application/ld+json\")\n",
    "\n",
    "#loading json\n",
    "if json_data:\n",
    "    data = json.loads(json_data.string)\n",
    "    \n",
    "#initializing lists to hold the extracted movie details\n",
    "titles = []\n",
    "urls = []\n",
    "descriptions = []\n",
    "best_ratings = []\n",
    "worst_ratings = []\n",
    "ratings = []\n",
    "genres = []\n",
    "durations = [] \n",
    "\n",
    "#extracting movie details from the JSON data\n",
    "if \"itemListElement\" in data:#checking if key exists\n",
    "    for item in data[\"itemListElement\"]:  #looping\n",
    "        movie=item[\"item\"] #accessing individual data\n",
    "        titles.append(movie[\"name\"]) #appending\n",
    "        urls.append(movie[\"url\"])\n",
    "        descriptions.append(movie[\"description\"])\n",
    "        best_ratings.append(movie[\"aggregateRating\"][\"bestRating\"])\n",
    "        worst_ratings.append(movie[\"aggregateRating\"][\"worstRating\"])\n",
    "        ratings.append(float(movie[\"aggregateRating\"][\"ratingValue\"]))\n",
    "        genres.append(movie[\"genre\"])\n",
    "        durations.append(movie[\"duration\"])\n",
    "        \n",
    "#creating pandas dataframe to store the scraped data\n",
    "df = pd.DataFrame({\n",
    "    \"Title\": titles,\n",
    "    \"URL\": urls,\n",
    "    \"Description\": descriptions,\n",
    "    \"Best rating\": best_ratings,\n",
    "    \"Worst rating\": worst_ratings,\n",
    "    \"Rating\": ratings,\n",
    "    \"Genre\": genres,\n",
    "    \"Duration\": durations\n",
    "}) \n",
    "\n",
    "#inserting column named ID at 0 index or beginning \n",
    "df.insert(0, \"ID\", range(1, len(df)+1))  "
   ]
  },
  {
   "cell_type": "code",
   "execution_count": 22,
   "id": "45b6257f-1b89-4a1a-9494-26e90a1ad93f",
   "metadata": {},
   "outputs": [
    {
     "data": {
      "text/html": [
       "<div>\n",
       "<style scoped>\n",
       "    .dataframe tbody tr th:only-of-type {\n",
       "        vertical-align: middle;\n",
       "    }\n",
       "\n",
       "    .dataframe tbody tr th {\n",
       "        vertical-align: top;\n",
       "    }\n",
       "\n",
       "    .dataframe thead th {\n",
       "        text-align: right;\n",
       "    }\n",
       "</style>\n",
       "<table border=\"1\" class=\"dataframe\">\n",
       "  <thead>\n",
       "    <tr style=\"text-align: right;\">\n",
       "      <th></th>\n",
       "      <th>ID</th>\n",
       "      <th>Title</th>\n",
       "      <th>URL</th>\n",
       "      <th>Description</th>\n",
       "      <th>Best rating</th>\n",
       "      <th>Worst rating</th>\n",
       "      <th>Rating</th>\n",
       "      <th>Genre</th>\n",
       "      <th>Duration</th>\n",
       "    </tr>\n",
       "  </thead>\n",
       "  <tbody>\n",
       "    <tr>\n",
       "      <th>0</th>\n",
       "      <td>1</td>\n",
       "      <td>The Shawshank Redemption</td>\n",
       "      <td>https://www.imdb.com/title/tt0111161/</td>\n",
       "      <td>A banker convicted of uxoricide forms a friend...</td>\n",
       "      <td>10</td>\n",
       "      <td>1</td>\n",
       "      <td>9.3</td>\n",
       "      <td>Drama</td>\n",
       "      <td>PT2H22M</td>\n",
       "    </tr>\n",
       "    <tr>\n",
       "      <th>1</th>\n",
       "      <td>2</td>\n",
       "      <td>The Godfather</td>\n",
       "      <td>https://www.imdb.com/title/tt0068646/</td>\n",
       "      <td>The aging patriarch of an organized crime dyna...</td>\n",
       "      <td>10</td>\n",
       "      <td>1</td>\n",
       "      <td>9.2</td>\n",
       "      <td>Crime, Drama</td>\n",
       "      <td>PT2H55M</td>\n",
       "    </tr>\n",
       "    <tr>\n",
       "      <th>2</th>\n",
       "      <td>3</td>\n",
       "      <td>The Dark Knight</td>\n",
       "      <td>https://www.imdb.com/title/tt0468569/</td>\n",
       "      <td>When a menace known as the Joker wreaks havoc ...</td>\n",
       "      <td>10</td>\n",
       "      <td>1</td>\n",
       "      <td>9.0</td>\n",
       "      <td>Action, Crime, Drama</td>\n",
       "      <td>PT2H32M</td>\n",
       "    </tr>\n",
       "    <tr>\n",
       "      <th>3</th>\n",
       "      <td>4</td>\n",
       "      <td>The Godfather Part II</td>\n",
       "      <td>https://www.imdb.com/title/tt0071562/</td>\n",
       "      <td>The early life and career of Vito Corleone in ...</td>\n",
       "      <td>10</td>\n",
       "      <td>1</td>\n",
       "      <td>9.0</td>\n",
       "      <td>Crime, Drama</td>\n",
       "      <td>PT3H22M</td>\n",
       "    </tr>\n",
       "    <tr>\n",
       "      <th>4</th>\n",
       "      <td>5</td>\n",
       "      <td>12 Angry Men</td>\n",
       "      <td>https://www.imdb.com/title/tt0050083/</td>\n",
       "      <td>The jury in a New York City murder trial is fr...</td>\n",
       "      <td>10</td>\n",
       "      <td>1</td>\n",
       "      <td>9.0</td>\n",
       "      <td>Crime, Drama</td>\n",
       "      <td>PT1H36M</td>\n",
       "    </tr>\n",
       "  </tbody>\n",
       "</table>\n",
       "</div>"
      ],
      "text/plain": [
       "   ID                     Title                                    URL  \\\n",
       "0   1  The Shawshank Redemption  https://www.imdb.com/title/tt0111161/   \n",
       "1   2             The Godfather  https://www.imdb.com/title/tt0068646/   \n",
       "2   3           The Dark Knight  https://www.imdb.com/title/tt0468569/   \n",
       "3   4     The Godfather Part II  https://www.imdb.com/title/tt0071562/   \n",
       "4   5              12 Angry Men  https://www.imdb.com/title/tt0050083/   \n",
       "\n",
       "                                         Description  Best rating  \\\n",
       "0  A banker convicted of uxoricide forms a friend...           10   \n",
       "1  The aging patriarch of an organized crime dyna...           10   \n",
       "2  When a menace known as the Joker wreaks havoc ...           10   \n",
       "3  The early life and career of Vito Corleone in ...           10   \n",
       "4  The jury in a New York City murder trial is fr...           10   \n",
       "\n",
       "   Worst rating  Rating                 Genre Duration  \n",
       "0             1     9.3                 Drama  PT2H22M  \n",
       "1             1     9.2          Crime, Drama  PT2H55M  \n",
       "2             1     9.0  Action, Crime, Drama  PT2H32M  \n",
       "3             1     9.0          Crime, Drama  PT3H22M  \n",
       "4             1     9.0          Crime, Drama  PT1H36M  "
      ]
     },
     "execution_count": 22,
     "metadata": {},
     "output_type": "execute_result"
    }
   ],
   "source": [
    "#displaying the first few rows of the dataframe\n",
    "df.head()"
   ]
  },
  {
   "cell_type": "code",
   "execution_count": 23,
   "id": "5c1a8a84-8236-45e9-91c2-ad5addab2f2e",
   "metadata": {},
   "outputs": [
    {
     "data": {
      "text/plain": [
       "ID              0\n",
       "Title           0\n",
       "URL             0\n",
       "Description     0\n",
       "Best rating     0\n",
       "Worst rating    0\n",
       "Rating          0\n",
       "Genre           0\n",
       "Duration        0\n",
       "dtype: int64"
      ]
     },
     "execution_count": 23,
     "metadata": {},
     "output_type": "execute_result"
    }
   ],
   "source": [
    "#MILESTONE 2: DATA CLEANING AND PREPROCESSING\n",
    "#checking for missing values\n",
    "df.isnull().sum()"
   ]
  },
  {
   "cell_type": "markdown",
   "id": "c8db5297-0612-4fe6-9c34-da01f3292eeb",
   "metadata": {},
   "source": [
    "No missing values were found in any column of the dataset. This confirms that the scraped data is complete and does not require imputation or row removal."
   ]
  },
  {
   "cell_type": "code",
   "execution_count": 24,
   "id": "655e0903-4227-45f6-944e-a5c92aedb2af",
   "metadata": {},
   "outputs": [
    {
     "data": {
      "text/plain": [
       "0"
      ]
     },
     "execution_count": 24,
     "metadata": {},
     "output_type": "execute_result"
    }
   ],
   "source": [
    "#checking for duplicate rows\n",
    "df.duplicated().sum()"
   ]
  },
  {
   "cell_type": "markdown",
   "id": "aa4424ac-64fb-4518-8914-36a0160ca8f4",
   "metadata": {},
   "source": [
    "No duplicate rows found"
   ]
  },
  {
   "cell_type": "code",
   "execution_count": 25,
   "id": "bcc8ab9e-a62b-4291-a3d4-3a2cdb60b0d2",
   "metadata": {},
   "outputs": [
    {
     "data": {
      "text/plain": [
       "ID                int64\n",
       "Title            object\n",
       "URL              object\n",
       "Description      object\n",
       "Best rating       int64\n",
       "Worst rating      int64\n",
       "Rating          float64\n",
       "Genre            object\n",
       "Duration         object\n",
       "dtype: object"
      ]
     },
     "execution_count": 25,
     "metadata": {},
     "output_type": "execute_result"
    }
   ],
   "source": [
    "#checking to confirm the data types\n",
    "df.dtypes"
   ]
  },
  {
   "cell_type": "markdown",
   "id": "8add01a1-f837-470e-bf06-dbc8180f2056",
   "metadata": {},
   "source": [
    "integer good. float good. strings appear as object in pandas unless explicitly converted, so no error found. "
   ]
  },
  {
   "cell_type": "markdown",
   "id": "04ea5f1c-9350-446f-891c-25b29f6dadb8",
   "metadata": {},
   "source": [
    "clean data set generated."
   ]
  },
  {
   "cell_type": "code",
   "execution_count": 26,
   "id": "20e4eeaa-2d6c-4958-b298-b9090996344d",
   "metadata": {},
   "outputs": [
    {
     "name": "stdout",
     "output_type": "stream",
     "text": [
      "✅ Data successfully saved as 'IMDb_movie_reviews.csv'\n"
     ]
    }
   ],
   "source": [
    "# exporting the final dataset to a CSV file without the index column\n",
    "df.to_csv(\"IMDb_movie_reviews.csv\", index=False)\n",
    "\n",
    "# confirmation message\n",
    "print(\"✅ Data successfully saved as 'IMDb_movie_reviews.csv'\")"
   ]
  },
  {
   "cell_type": "markdown",
   "id": "9207be85-8061-420e-a0ab-37b7be57b43f",
   "metadata": {},
   "source": [
    "Dataset exported and saved. "
   ]
  }
 ],
 "metadata": {
  "kernelspec": {
   "display_name": "Python [conda env:base] *",
   "language": "python",
   "name": "conda-base-py"
  },
  "language_info": {
   "codemirror_mode": {
    "name": "ipython",
    "version": 3
   },
   "file_extension": ".py",
   "mimetype": "text/x-python",
   "name": "python",
   "nbconvert_exporter": "python",
   "pygments_lexer": "ipython3",
   "version": "3.12.7"
  }
 },
 "nbformat": 4,
 "nbformat_minor": 5
}
